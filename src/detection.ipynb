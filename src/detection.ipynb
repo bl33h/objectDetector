{
 "cells": [
  {
   "cell_type": "code",
   "execution_count": 1,
   "metadata": {},
   "outputs": [],
   "source": [
    "import cv2\n",
    "import mediapipe as mp\n",
    "import numpy as np"
   ]
  },
  {
   "cell_type": "markdown",
   "metadata": {},
   "source": [
    "### Task 1 - Object Detection (Hands)"
   ]
  },
  {
   "cell_type": "code",
   "execution_count": 3,
   "metadata": {},
   "outputs": [],
   "source": [
    "mp_hands = mp.solutions.hands\n",
    "mp_drawing = mp.solutions.drawing_utils\n",
    "\n",
    "cap = cv2.VideoCapture(0)\n",
    "\n",
    "try:\n",
    "    with mp_hands.Hands(min_detection_confidence=0.5, min_tracking_confidence=0.5) as hands:\n",
    "        while cap.isOpened():\n",
    "            ret, frame = cap.read()\n",
    "            if not ret:\n",
    "                print(\"No frame received, exiting...\")\n",
    "                break\n",
    "\n",
    "            # mirror effect\n",
    "            frame = cv2.flip(frame, 1)\n",
    "            rgb_frame = cv2.cvtColor(frame, cv2.COLOR_BGR2RGB)\n",
    "\n",
    "            # hand detection\n",
    "            results = hands.process(rgb_frame)\n",
    "\n",
    "            # landmarks and boxes\n",
    "            if results.multi_hand_landmarks:\n",
    "                for hand_landmarks in results.multi_hand_landmarks:\n",
    "                    mp_drawing.draw_landmarks(\n",
    "                        frame,\n",
    "                        hand_landmarks,\n",
    "                        mp_hands.HAND_CONNECTIONS,\n",
    "                        mp_drawing.DrawingSpec(color=(0, 255, 0), thickness=1, circle_radius=0),\n",
    "                        mp_drawing.DrawingSpec(color=(0, 0, 255), thickness=1, circle_radius=0)\n",
    "                    )\n",
    "\n",
    "                    # box calculations\n",
    "                    h, w, _ = frame.shape\n",
    "                    x_min = int(min([lm.x for lm in hand_landmarks.landmark]) * w)\n",
    "                    y_min = int(min([lm.y for lm in hand_landmarks.landmark]) * h)\n",
    "                    x_max = int(max([lm.x for lm in hand_landmarks.landmark]) * w)\n",
    "                    y_max = int(max([lm.y for lm in hand_landmarks.landmark]) * h)\n",
    "\n",
    "                    cv2.rectangle(frame, (x_min, y_min), (x_max, y_max), (255, 0, 0), 2)\n",
    "\n",
    "            cv2.imshow('Hand Detection', frame)\n",
    "\n",
    "            key = cv2.waitKey(1) & 0xFF\n",
    "            if key == ord('e'):\n",
    "                break\n",
    "\n",
    "            # detect if window is closed\n",
    "            if cv2.getWindowProperty('Hand Detection', cv2.WND_PROP_VISIBLE) < 1:\n",
    "                break\n",
    "\n",
    "except Exception as e:\n",
    "    print(f\"Error: {e}\")\n",
    "\n",
    "finally:\n",
    "    cap.release()\n",
    "    cv2.destroyAllWindows()"
   ]
  },
  {
   "cell_type": "markdown",
   "metadata": {},
   "source": [
    "### Task 2 - Video Skeleton"
   ]
  },
  {
   "cell_type": "code",
   "execution_count": 11,
   "metadata": {},
   "outputs": [],
   "source": [
    "mp_pose = mp.solutions.pose\n",
    "mp_drawing = mp.solutions.drawing_utils"
   ]
  },
  {
   "cell_type": "code",
   "execution_count": 15,
   "metadata": {},
   "outputs": [],
   "source": [
    "video_path = \"media/rdance1.mp4\"\n",
    "cap = cv2.VideoCapture(video_path)"
   ]
  },
  {
   "cell_type": "code",
   "execution_count": 16,
   "metadata": {},
   "outputs": [],
   "source": [
    "with mp_pose.Pose(min_detection_confidence=0.5, min_tracking_confidence=0.5) as pose:\n",
    "    while cap.isOpened():\n",
    "        ret, frame = cap.read()\n",
    "        if not ret:\n",
    "            break\n",
    "        \n",
    "        rgb_frame = cv2.cvtColor(frame, cv2.COLOR_BGR2RGB)\n",
    "\n",
    "        results = pose.process(rgb_frame)\n",
    "\n",
    "        # Create a side black background\n",
    "        skeleton_frame = np.zeros_like(frame)\n",
    "\n",
    "        # Draw the skeleton on both the original frame and the black background\n",
    "        if results.pose_landmarks:\n",
    "            mp_drawing.draw_landmarks(\n",
    "                frame, \n",
    "                results.pose_landmarks, \n",
    "                mp_pose.POSE_CONNECTIONS,\n",
    "                mp_drawing.DrawingSpec(color=(0, 255, 0), thickness=2, circle_radius=2), \n",
    "                mp_drawing.DrawingSpec(color=(0, 0, 255), thickness=2, circle_radius=2)   \n",
    "            )\n",
    "            mp_drawing.draw_landmarks(\n",
    "                skeleton_frame, \n",
    "                results.pose_landmarks, \n",
    "                mp_pose.POSE_CONNECTIONS,\n",
    "                mp_drawing.DrawingSpec(color=(0, 255, 0), thickness=2, circle_radius=2), \n",
    "                mp_drawing.DrawingSpec(color=(0, 0, 255), thickness=2, circle_radius=2)   \n",
    "            )\n",
    "\n",
    "        # Combine the two frames horizontally\n",
    "        combined_frame = cv2.hconcat([frame, skeleton_frame])\n",
    "\n",
    "        # Display the combined frame\n",
    "        cv2.imshow('Skeleton and Original', combined_frame)\n",
    "\n",
    "        if cv2.waitKey(1) & 0xFF == ord('e'):\n",
    "            break\n",
    "\n",
    "cap.release()\n",
    "cv2.destroyAllWindows()"
   ]
  }
 ],
 "metadata": {
  "kernelspec": {
   "display_name": "venv",
   "language": "python",
   "name": "python3"
  },
  "language_info": {
   "codemirror_mode": {
    "name": "ipython",
    "version": 3
   },
   "file_extension": ".py",
   "mimetype": "text/x-python",
   "name": "python",
   "nbconvert_exporter": "python",
   "pygments_lexer": "ipython3",
   "version": "3.9.13"
  }
 },
 "nbformat": 4,
 "nbformat_minor": 2
}
